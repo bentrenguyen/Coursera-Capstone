{
 "metadata": {
  "language_info": {
   "codemirror_mode": {
    "name": "ipython",
    "version": 3
   },
   "file_extension": ".py",
   "mimetype": "text/x-python",
   "name": "python",
   "nbconvert_exporter": "python",
   "pygments_lexer": "ipython3",
   "version": 3
  },
  "orig_nbformat": 2
 },
 "nbformat": 4,
 "nbformat_minor": 2,
 "cells": [
  {
   "source": [
    "# Capstone Project - Battle of the Neighborhoods\n",
    "### IBM/Coursera"
   ],
   "cell_type": "markdown",
   "metadata": {}
  },
  {
   "source": [
    "## Table of Contents\n",
    "- Introduction \n",
    "- Data\n",
    "- Methodology\n",
    "- Results and Discussion\n",
    "- Conclusion"
   ],
   "cell_type": "markdown",
   "metadata": {}
  },
  {
   "source": [
    "## Introduction\n",
    "\n",
    "For this capstone project, we will try and find the optimal location to open a coffee shop in Berkeley, California, specifically targetting the area around the UC Berkeley campus. As this is an area that usually has a lot of foot traffic due to the university campus, it is a popular place for stakeholders looking to open a new location. \n",
    "\n",
    "In order to avoid overcrowding of coffee shops, we will be looking for areas with varying density of previously existing coffee shops in order to determine where the best location would be. We will also be measuring and taking into account the distance from the university of each prospective location, putting higher priority on nearby locations. \n",
    "\n",
    "Through this analysis, we will be able to find several locations to choose from that would fit the criteria of a good spot to open a new coffee shop. "
   ],
   "cell_type": "markdown",
   "metadata": {}
  },
  {
   "source": [
    "## Data\n",
    "\n",
    "As stated in the introduction, the factors that we will be taking into account for our analysis are: \n",
    "- density of nearby restuarants and shops, coffee shops and others\n",
    "- distance to UC Berkeley campus\n",
    "\n",
    "We will be using the Foursquare API to obtain this information, both for the density of nearby restuarants and coffee shops, as well as for the distance to the UC Berkeley campus. "
   ],
   "cell_type": "markdown",
   "metadata": {}
  },
  {
   "cell_type": "code",
   "execution_count": null,
   "metadata": {},
   "outputs": [],
   "source": []
  }
 ]
}